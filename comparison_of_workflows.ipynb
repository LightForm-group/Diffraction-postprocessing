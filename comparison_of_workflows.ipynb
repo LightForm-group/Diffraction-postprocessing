{
 "cells": [
  {
   "cell_type": "markdown",
   "metadata": {},
   "source": [
    "# Comparison of similar matflow-damask workflows\n",
    "\n",
    "This notebook is intended as a guide for comparison of matflow workflows with only one diffrent variable.\n",
    "For example, slight variation of equiaxed microstructure for two crystal plasticity models with the same texture, or varying texture for two models with identical microstructure."
   ]
  },
  {
   "cell_type": "code",
   "execution_count": null,
   "metadata": {},
   "outputs": [],
   "source": [
    "# Firstly, load in the required python libraries and functions:\n",
    "# libraries and functions from the web:\n",
    "import numpy as np\n",
    "from matflow import load_workflow\n",
    "import pickle\n",
    "from cycler import cycler\n",
    "import matplotlib.pyplot as plt\n",
    "# libraries and functions local to this repository:\n",
    "from utils import import_diff_params\n",
    "from lattice_strain import lattice_strain\n",
    "from plotting import plot_latticestrain\n",
    "from plotting import plot_truestrain_peakint\n",
    "from plotting import plot_lattice_strain_dist_inc"
   ]
  },
  {
   "cell_type": "markdown",
   "metadata": {},
   "source": [
    "For this post-processing objective, we need to load in datasets from multiple diffrent matflow workflows.\n",
    "\n",
    "However, for workflows containing large simulation result data (>20Gbs), **we need to restrict import of data to one use if possible**:"
   ]
  },
  {
   "cell_type": "code",
   "execution_count": null,
   "metadata": {},
   "outputs": [],
   "source": [
    "# define path to completed matflow workflow directories containing workflow.hdf5 files...\n",
    "workflow_dir_1 = \"/mnt/iusers01/jf01/y15576gb/\\\n",
    "postprocessing/\\\n",
    "034_Ti64_TIFUN-T4_TD_910C_DeformY64x_1mms-1_Xprism_2023-03-14-113312/\"\n",
    "\n",
    "workflow_dir_2 = \"/mnt/iusers01/jf01/y15576gb/\\\n",
    "postprocessing/\\\n",
    "034_Ti64_TIFUN-T4_TD_910C_DeformY64x_1mms-1_Xprism_2023-03-14-113312/\"\n",
    "\n",
    "# use load_workflow to import the result.hdf5 file into jupyter as a variable...\n",
    "workflow_1 = load_workflow(workflow_dir_1)\n",
    "workflow_2 = load_workflow(workflow_dir_2)\n",
    "\n",
    "# to work on the simulation results specifically, define the volume_element_response as a python dictionary...\n",
    "ve_response_1 = workflow_1.tasks.simulate_volume_element_loading.elements[0].outputs.volume_element_response\n",
    "ve_response_2 = workflow_2.tasks.simulate_volume_element_loading.elements[0].outputs.volume_element_response"
   ]
  }
 ],
 "metadata": {
  "kernelspec": {
   "display_name": "Python 3",
   "language": "python",
   "name": "python3"
  },
  "language_info": {
   "codemirror_mode": {
    "name": "ipython",
    "version": 3
   },
   "file_extension": ".py",
   "mimetype": "text/x-python",
   "name": "python",
   "nbconvert_exporter": "python",
   "pygments_lexer": "ipython3",
   "version": "3.7.3"
  }
 },
 "nbformat": 4,
 "nbformat_minor": 4
}
