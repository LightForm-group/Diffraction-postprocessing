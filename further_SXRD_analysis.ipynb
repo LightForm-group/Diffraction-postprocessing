{
 "cells": [
  {
   "cell_type": "markdown",
   "metadata": {},
   "source": [
    "# Further SXRD analysis\n",
    "This notebook is for further analysis of ETMT and SXRD data before comparison to the model"
   ]
  },
  {
   "cell_type": "code",
   "execution_count": 1,
   "metadata": {},
   "outputs": [],
   "source": [
    "# Firstly, load in the required python libraries and functions:\n",
    "# libraries and functions from the web:\n",
    "import numpy as np\n",
    "import pandas as pd\n",
    "from matflow import load_workflow\n",
    "import pickle\n",
    "from cycler import cycler\n",
    "import matplotlib.pyplot as plt\n",
    "# libraries and functions local to this repository:\n",
    "from utils import import_diff_params\n",
    "from lattice_strain import lattice_strain\n",
    "from plotting import plot_latticestrain\n",
    "from plotting import plot_truestrain_peakint\n",
    "from plotting import plot_lattice_strain_dist_inc"
   ]
  },
  {
   "cell_type": "code",
   "execution_count": 2,
   "metadata": {},
   "outputs": [],
   "source": [
    "\n",
    "# next import ETMT and lattice strain data\n",
    "ETMT_data = pd.read_csv(\"/mnt/iusers01/jf01/y15576gb/temp_ETMT_data/034/ETMT_output_034.txt\")\n",
    "exp_latticestrain = pickle.load(open('/mnt/iusers01/jf01/y15576gb/temp_ETMT_data/034/exp_lattice_strain.pkl', 'rb'))\n"
   ]
  },
  {
   "cell_type": "code",
   "execution_count": 3,
   "metadata": {
    "collapsed": true,
    "jupyter": {
     "outputs_hidden": true
    }
   },
   "outputs": [
    {
     "data": {
      "text/html": [
       "<div>\n",
       "<style scoped>\n",
       "    .dataframe tbody tr th:only-of-type {\n",
       "        vertical-align: middle;\n",
       "    }\n",
       "\n",
       "    .dataframe tbody tr th {\n",
       "        vertical-align: top;\n",
       "    }\n",
       "\n",
       "    .dataframe thead th {\n",
       "        text-align: right;\n",
       "    }\n",
       "</style>\n",
       "<table border=\"1\" class=\"dataframe\">\n",
       "  <thead>\n",
       "    <tr style=\"text-align: right;\">\n",
       "      <th></th>\n",
       "      <th># Time (s)</th>\n",
       "      <th>Load (N)</th>\n",
       "      <th>Displacement (mm)</th>\n",
       "      <th>Applied Stress (MPa)</th>\n",
       "      <th>True Strain</th>\n",
       "      <th>True Stress (MPa)</th>\n",
       "      <th>ETMT Temperature (C)</th>\n",
       "      <th>Eurotherm Temperature (C)</th>\n",
       "      <th>Command Frame Signal (%)</th>\n",
       "    </tr>\n",
       "  </thead>\n",
       "  <tbody>\n",
       "    <tr>\n",
       "      <th>0</th>\n",
       "      <td>215.220</td>\n",
       "      <td>0.915434</td>\n",
       "      <td>0.000000e+00</td>\n",
       "      <td>0.114429</td>\n",
       "      <td>0.000000e+00</td>\n",
       "      <td>0.114429</td>\n",
       "      <td>990.856458</td>\n",
       "      <td>913.974910</td>\n",
       "      <td>1.095360</td>\n",
       "    </tr>\n",
       "    <tr>\n",
       "      <th>1</th>\n",
       "      <td>215.220</td>\n",
       "      <td>0.915434</td>\n",
       "      <td>0.000000e+00</td>\n",
       "      <td>0.114429</td>\n",
       "      <td>0.000000e+00</td>\n",
       "      <td>0.114429</td>\n",
       "      <td>990.856458</td>\n",
       "      <td>913.974910</td>\n",
       "      <td>1.095360</td>\n",
       "    </tr>\n",
       "    <tr>\n",
       "      <th>2</th>\n",
       "      <td>215.222</td>\n",
       "      <td>0.921562</td>\n",
       "      <td>0.000000e+00</td>\n",
       "      <td>0.115195</td>\n",
       "      <td>0.000000e+00</td>\n",
       "      <td>0.115195</td>\n",
       "      <td>993.318372</td>\n",
       "      <td>913.974910</td>\n",
       "      <td>1.099360</td>\n",
       "    </tr>\n",
       "    <tr>\n",
       "      <th>3</th>\n",
       "      <td>215.224</td>\n",
       "      <td>0.956925</td>\n",
       "      <td>0.000000e+00</td>\n",
       "      <td>0.119616</td>\n",
       "      <td>0.000000e+00</td>\n",
       "      <td>0.119616</td>\n",
       "      <td>994.188803</td>\n",
       "      <td>913.974910</td>\n",
       "      <td>1.103360</td>\n",
       "    </tr>\n",
       "    <tr>\n",
       "      <th>4</th>\n",
       "      <td>215.226</td>\n",
       "      <td>1.003710</td>\n",
       "      <td>5.122274e-07</td>\n",
       "      <td>0.125464</td>\n",
       "      <td>2.561137e-07</td>\n",
       "      <td>0.125464</td>\n",
       "      <td>992.554973</td>\n",
       "      <td>913.974910</td>\n",
       "      <td>1.107360</td>\n",
       "    </tr>\n",
       "    <tr>\n",
       "      <th>...</th>\n",
       "      <td>...</td>\n",
       "      <td>...</td>\n",
       "      <td>...</td>\n",
       "      <td>...</td>\n",
       "      <td>...</td>\n",
       "      <td>...</td>\n",
       "      <td>...</td>\n",
       "      <td>...</td>\n",
       "      <td>...</td>\n",
       "    </tr>\n",
       "    <tr>\n",
       "      <th>8276</th>\n",
       "      <td>231.766</td>\n",
       "      <td>2.004970</td>\n",
       "      <td>1.493929e+00</td>\n",
       "      <td>0.250621</td>\n",
       "      <td>5.578798e-01</td>\n",
       "      <td>0.437826</td>\n",
       "      <td>988.887948</td>\n",
       "      <td>916.791335</td>\n",
       "      <td>0.033158</td>\n",
       "    </tr>\n",
       "    <tr>\n",
       "      <th>8277</th>\n",
       "      <td>231.768</td>\n",
       "      <td>1.964089</td>\n",
       "      <td>1.493919e+00</td>\n",
       "      <td>0.245511</td>\n",
       "      <td>5.578767e-01</td>\n",
       "      <td>0.428898</td>\n",
       "      <td>990.993077</td>\n",
       "      <td>916.791546</td>\n",
       "      <td>0.032555</td>\n",
       "    </tr>\n",
       "    <tr>\n",
       "      <th>8278</th>\n",
       "      <td>231.770</td>\n",
       "      <td>1.889258</td>\n",
       "      <td>1.493907e+00</td>\n",
       "      <td>0.236157</td>\n",
       "      <td>5.578736e-01</td>\n",
       "      <td>0.412556</td>\n",
       "      <td>992.952696</td>\n",
       "      <td>916.791758</td>\n",
       "      <td>0.031953</td>\n",
       "    </tr>\n",
       "    <tr>\n",
       "      <th>8279</th>\n",
       "      <td>231.772</td>\n",
       "      <td>1.792195</td>\n",
       "      <td>1.493899e+00</td>\n",
       "      <td>0.224024</td>\n",
       "      <td>5.578712e-01</td>\n",
       "      <td>0.391359</td>\n",
       "      <td>992.426280</td>\n",
       "      <td>916.791969</td>\n",
       "      <td>0.031350</td>\n",
       "    </tr>\n",
       "    <tr>\n",
       "      <th>8280</th>\n",
       "      <td>231.774</td>\n",
       "      <td>1.709540</td>\n",
       "      <td>1.493892e+00</td>\n",
       "      <td>0.213693</td>\n",
       "      <td>5.578690e-01</td>\n",
       "      <td>0.373309</td>\n",
       "      <td>990.525865</td>\n",
       "      <td>916.792180</td>\n",
       "      <td>0.030747</td>\n",
       "    </tr>\n",
       "  </tbody>\n",
       "</table>\n",
       "<p>8281 rows × 9 columns</p>\n",
       "</div>"
      ],
      "text/plain": [
       "      # Time (s)   Load (N)   Displacement (mm)   Applied Stress (MPa)  \\\n",
       "0        215.220   0.915434        0.000000e+00               0.114429   \n",
       "1        215.220   0.915434        0.000000e+00               0.114429   \n",
       "2        215.222   0.921562        0.000000e+00               0.115195   \n",
       "3        215.224   0.956925        0.000000e+00               0.119616   \n",
       "4        215.226   1.003710        5.122274e-07               0.125464   \n",
       "...          ...        ...                 ...                    ...   \n",
       "8276     231.766   2.004970        1.493929e+00               0.250621   \n",
       "8277     231.768   1.964089        1.493919e+00               0.245511   \n",
       "8278     231.770   1.889258        1.493907e+00               0.236157   \n",
       "8279     231.772   1.792195        1.493899e+00               0.224024   \n",
       "8280     231.774   1.709540        1.493892e+00               0.213693   \n",
       "\n",
       "       True Strain   True Stress (MPa)   ETMT Temperature (C)  \\\n",
       "0     0.000000e+00            0.114429             990.856458   \n",
       "1     0.000000e+00            0.114429             990.856458   \n",
       "2     0.000000e+00            0.115195             993.318372   \n",
       "3     0.000000e+00            0.119616             994.188803   \n",
       "4     2.561137e-07            0.125464             992.554973   \n",
       "...            ...                 ...                    ...   \n",
       "8276  5.578798e-01            0.437826             988.887948   \n",
       "8277  5.578767e-01            0.428898             990.993077   \n",
       "8278  5.578736e-01            0.412556             992.952696   \n",
       "8279  5.578712e-01            0.391359             992.426280   \n",
       "8280  5.578690e-01            0.373309             990.525865   \n",
       "\n",
       "       Eurotherm Temperature (C)   Command Frame Signal (%)  \n",
       "0                     913.974910                   1.095360  \n",
       "1                     913.974910                   1.095360  \n",
       "2                     913.974910                   1.099360  \n",
       "3                     913.974910                   1.103360  \n",
       "4                     913.974910                   1.107360  \n",
       "...                          ...                        ...  \n",
       "8276                  916.791335                   0.033158  \n",
       "8277                  916.791546                   0.032555  \n",
       "8278                  916.791758                   0.031953  \n",
       "8279                  916.791969                   0.031350  \n",
       "8280                  916.792180                   0.030747  \n",
       "\n",
       "[8281 rows x 9 columns]"
      ]
     },
     "execution_count": 3,
     "metadata": {},
     "output_type": "execute_result"
    }
   ],
   "source": [
    "ETMT_data"
   ]
  },
  {
   "cell_type": "code",
   "execution_count": 36,
   "metadata": {},
   "outputs": [
    {
     "name": "stdout",
     "output_type": "stream",
     "text": [
      "Youngs modulus: 1.089087964376192GPa\n",
      "0.02% proof Yield stress: 235.7691169953718MPa\n",
      "strain at yield stress: 0.21637801116819208\n"
     ]
    }
   ],
   "source": [
    "ETMT_true_stress = ETMT_data.iloc[:,5]\n",
    "ETMT_true_strain = ETMT_data.iloc[:,4]\n",
    "\n",
    "yield_inc=250 # arbitrary yield increment\n",
    "\n",
    "# figure out 0.2% proof stress line and yield intercept\n",
    "youngs_mod = ((ETMT_true_stress[yield_inc]-ETMT_true_stress[0])*1E-3)/(ETMT_true_strain[yield_inc]-ETMT_true_strain[0])\n",
    "yield_stress = ETMT_true_stress[yield_inc]\n",
    "print(f\"Youngs modulus: {youngs_mod}GPa\")\n",
    "print(f\"0.02% proof Yield stress: {yield_stress}MPa\")\n",
    "print(f\"strain at yield stress: {ETMT_true_strain[yield_inc]}\")"
   ]
  },
  {
   "cell_type": "code",
   "execution_count": 45,
   "metadata": {},
   "outputs": [
    {
     "data": {
      "image/png": "[encoded data removed]",
      "text/plain": [
       "<Figure size 432x288 with 1 Axes>"
      ]
     },
     "metadata": {
      "needs_background": "light"
     },
     "output_type": "display_data"
    }
   ],
   "source": [
    "# Plot of true stress-strain\n",
    "# plt.figure(dpi=300)\n",
    "# stress strain curve\n",
    "plt.plot(ETMT_true_strain, ETMT_true_stress, marker='.');\n",
    "# 0.02% proof stress line\n",
    "plt.plot([0.02,ETMT_true_strain[yield_inc]], [0.02, ETMT_true_stress[yield_inc]], marker='');"
   ]
  },
  {
   "cell_type": "code",
   "execution_count": 43,
   "metadata": {},
   "outputs": [
    {
     "data": {
      "image/png": "[encoded data removed]",
      "text/plain": [
       "<Figure size 432x288 with 1 Axes>"
      ]
     },
     "metadata": {
      "needs_background": "light"
     },
     "output_type": "display_data"
    }
   ],
   "source": [
    "# plot corrected true stress strain for plastic region only\n",
    "# plt.figure(dpi=300)\n",
    "plt.plot(ETMT_true_strain[yield_inc:]-ETMT_true_strain[yield_inc], ETMT_true_stress[yield_inc:]);\n",
    "plt.xlabel(f\"Plastic strain $\\epsilon_P$\");"
   ]
  },
  {
   "cell_type": "code",
   "execution_count": 52,
   "metadata": {},
   "outputs": [
    {
     "data": {
      "text/plain": [
       "[<matplotlib.lines.Line2D at 0x7f644f498780>]"
      ]
     },
     "execution_count": 52,
     "metadata": {},
     "output_type": "execute_result"
    },
    {
     "data": {
      "image/png": "[encoded data removed]",
      "text/plain": [
       "<Figure size 432x288 with 1 Axes>"
      ]
     },
     "metadata": {
      "needs_background": "light"
     },
     "output_type": "display_data"
    }
   ],
   "source": [
    "# import model stress strain\n",
    "path = \"/mnt/iusers01/jf01/y15576gb/postprocessing/\"\n",
    "workflow_dir = path+\"034_Ti64_TIFUN-T4_TD_910C_elongated_TensionY64x_1mms-1_Xprism_alt0-plastic_CRSS_14_210_140_0_140_224_224_2023-12-19-123807/\"\n",
    "model_stress_strain = pickle.load(open(workflow_dir+'stress_strain.pkl', 'rb'))\n",
    "model_stress_strain['Y'].keys()\n",
    "plt.plot(model_stress_strain['Y']['strain'], model_stress_strain['Y']['stress'])"
   ]
  },
  {
   "cell_type": "code",
   "execution_count": null,
   "metadata": {},
   "outputs": [],
   "source": []
  }
 ],
 "metadata": {
  "kernelspec": {
   "display_name": "Python 3",
   "language": "python",
   "name": "python3"
  },
  "language_info": {
   "codemirror_mode": {
    "name": "ipython",
    "version": 3
   },
   "file_extension": ".py",
   "mimetype": "text/x-python",
   "name": "python",
   "nbconvert_exporter": "python",
   "pygments_lexer": "ipython3",
   "version": "3.7.3"
  }
 },
 "nbformat": 4,
 "nbformat_minor": 4
}
